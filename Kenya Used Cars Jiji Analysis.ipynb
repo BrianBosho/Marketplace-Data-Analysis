{
 "cells": [
  {
   "cell_type": "code",
   "execution_count": 1,
   "id": "aae53965",
   "metadata": {},
   "outputs": [],
   "source": [
    "import numpy as np\n",
    "import pandas as pd\n",
    "import matplotlib.pyplot as plt"
   ]
  },
  {
   "cell_type": "code",
   "execution_count": 2,
   "id": "6ef173fd",
   "metadata": {},
   "outputs": [],
   "source": [
    "plt.rcParams['figure.figsize'] = [10, 5]"
   ]
  },
  {
   "cell_type": "code",
   "execution_count": 3,
   "id": "e2ff26e8",
   "metadata": {},
   "outputs": [],
   "source": [
    "plt.style.use('fivethirtyeight')"
   ]
  },
  {
   "cell_type": "code",
   "execution_count": 4,
   "id": "2955321f",
   "metadata": {},
   "outputs": [],
   "source": [
    "df = pd.read_csv('cardata1.csv')\n",
    "df.drop('Unnamed: 0', axis=1, inplace =True)\n",
    "df['age'] = df['Year of Manufacture'].apply(lambda x: 2022-float(x))"
   ]
  },
  {
   "cell_type": "code",
   "execution_count": 5,
   "id": "bb363d7f",
   "metadata": {},
   "outputs": [
    {
     "data": {
      "text/plain": [
       "(4099, 13)"
      ]
     },
     "execution_count": 5,
     "metadata": {},
     "output_type": "execute_result"
    }
   ],
   "source": [
    "# Extract kenyan used cars\n",
    "filt_kenya = df['Condition']=='Kenyan Used'\n",
    "df=df.loc[filt_kenya]\n",
    "df.shape"
   ]
  },
  {
   "cell_type": "markdown",
   "id": "c7df1b8d",
   "metadata": {},
   "source": [
    "# Basic Data exploration"
   ]
  },
  {
   "cell_type": "code",
   "execution_count": 6,
   "id": "0b4f833d",
   "metadata": {},
   "outputs": [
    {
     "data": {
      "text/html": [
       "<div>\n",
       "<style scoped>\n",
       "    .dataframe tbody tr th:only-of-type {\n",
       "        vertical-align: middle;\n",
       "    }\n",
       "\n",
       "    .dataframe tbody tr th {\n",
       "        vertical-align: top;\n",
       "    }\n",
       "\n",
       "    .dataframe thead th {\n",
       "        text-align: right;\n",
       "    }\n",
       "</style>\n",
       "<table border=\"1\" class=\"dataframe\">\n",
       "  <thead>\n",
       "    <tr style=\"text-align: right;\">\n",
       "      <th></th>\n",
       "      <th>Year of Manufacture</th>\n",
       "      <th>Mileage</th>\n",
       "      <th>selling_price</th>\n",
       "      <th>listing_duration</th>\n",
       "      <th>age</th>\n",
       "    </tr>\n",
       "  </thead>\n",
       "  <tbody>\n",
       "    <tr>\n",
       "      <th>count</th>\n",
       "      <td>4099.00000</td>\n",
       "      <td>2.957000e+03</td>\n",
       "      <td>4.096000e+03</td>\n",
       "      <td>4099.000000</td>\n",
       "      <td>4099.00000</td>\n",
       "    </tr>\n",
       "    <tr>\n",
       "      <th>mean</th>\n",
       "      <td>2010.02342</td>\n",
       "      <td>1.291919e+05</td>\n",
       "      <td>2.314996e+06</td>\n",
       "      <td>42.975116</td>\n",
       "      <td>11.97658</td>\n",
       "    </tr>\n",
       "    <tr>\n",
       "      <th>std</th>\n",
       "      <td>4.33250</td>\n",
       "      <td>9.926718e+04</td>\n",
       "      <td>2.200597e+06</td>\n",
       "      <td>40.321952</td>\n",
       "      <td>4.33250</td>\n",
       "    </tr>\n",
       "    <tr>\n",
       "      <th>min</th>\n",
       "      <td>1958.00000</td>\n",
       "      <td>7.000000e+03</td>\n",
       "      <td>1.600000e+05</td>\n",
       "      <td>13.000000</td>\n",
       "      <td>1.00000</td>\n",
       "    </tr>\n",
       "    <tr>\n",
       "      <th>25%</th>\n",
       "      <td>2008.00000</td>\n",
       "      <td>9.700000e+04</td>\n",
       "      <td>1.050000e+06</td>\n",
       "      <td>21.000000</td>\n",
       "      <td>9.00000</td>\n",
       "    </tr>\n",
       "    <tr>\n",
       "      <th>50%</th>\n",
       "      <td>2011.00000</td>\n",
       "      <td>1.200000e+05</td>\n",
       "      <td>1.650000e+06</td>\n",
       "      <td>30.000000</td>\n",
       "      <td>11.00000</td>\n",
       "    </tr>\n",
       "    <tr>\n",
       "      <th>75%</th>\n",
       "      <td>2013.00000</td>\n",
       "      <td>1.450000e+05</td>\n",
       "      <td>2.700000e+06</td>\n",
       "      <td>49.000000</td>\n",
       "      <td>14.00000</td>\n",
       "    </tr>\n",
       "    <tr>\n",
       "      <th>max</th>\n",
       "      <td>2021.00000</td>\n",
       "      <td>1.980000e+06</td>\n",
       "      <td>4.500000e+07</td>\n",
       "      <td>434.000000</td>\n",
       "      <td>64.00000</td>\n",
       "    </tr>\n",
       "  </tbody>\n",
       "</table>\n",
       "</div>"
      ],
      "text/plain": [
       "       Year of Manufacture       Mileage  selling_price  listing_duration  \\\n",
       "count           4099.00000  2.957000e+03   4.096000e+03       4099.000000   \n",
       "mean            2010.02342  1.291919e+05   2.314996e+06         42.975116   \n",
       "std                4.33250  9.926718e+04   2.200597e+06         40.321952   \n",
       "min             1958.00000  7.000000e+03   1.600000e+05         13.000000   \n",
       "25%             2008.00000  9.700000e+04   1.050000e+06         21.000000   \n",
       "50%             2011.00000  1.200000e+05   1.650000e+06         30.000000   \n",
       "75%             2013.00000  1.450000e+05   2.700000e+06         49.000000   \n",
       "max             2021.00000  1.980000e+06   4.500000e+07        434.000000   \n",
       "\n",
       "              age  \n",
       "count  4099.00000  \n",
       "mean     11.97658  \n",
       "std       4.33250  \n",
       "min       1.00000  \n",
       "25%       9.00000  \n",
       "50%      11.00000  \n",
       "75%      14.00000  \n",
       "max      64.00000  "
      ]
     },
     "execution_count": 6,
     "metadata": {},
     "output_type": "execute_result"
    }
   ],
   "source": [
    "df.describe()"
   ]
  },
  {
   "cell_type": "code",
   "execution_count": null,
   "id": "8cbc4a85",
   "metadata": {},
   "outputs": [],
   "source": []
  }
 ],
 "metadata": {
  "kernelspec": {
   "display_name": "Python [conda env:py3-TF]",
   "language": "python",
   "name": "conda-env-py3-TF-py"
  },
  "language_info": {
   "codemirror_mode": {
    "name": "ipython",
    "version": 3
   },
   "file_extension": ".py",
   "mimetype": "text/x-python",
   "name": "python",
   "nbconvert_exporter": "python",
   "pygments_lexer": "ipython3",
   "version": "3.8.13"
  }
 },
 "nbformat": 4,
 "nbformat_minor": 5
}
