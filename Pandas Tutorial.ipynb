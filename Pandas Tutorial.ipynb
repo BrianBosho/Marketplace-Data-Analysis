{
 "cells": [
  {
   "cell_type": "markdown",
   "id": "30ed326a",
   "metadata": {},
   "source": [
    "Jupyter Notebook Notes"
   ]
  },
  {
   "cell_type": "markdown",
   "id": "54f9e152",
   "metadata": {},
   "source": [
    "Common fuctions & Methods\n",
    "\n",
    "df.read_csv()\n",
    "df.shape - Get the rows & columns for the data frame\n",
    "df.info() - to view all the column names and their datatypes\n",
    "pd.set_option('display.max_columns', 85) -  allows you to view all the 85 columns of the df\n",
    "pd.set_option('display.max_rows', 85) - Allow you to set teh maximum number of rows that can be displayed in Jupyter\n",
    "df.head()\n",
    "df.tail()\n",
    "loc & iloc - used to get rows from dataframes\n",
    "df.set_index('index_name)\n",
    "\n",
    "# Pandas Filtering:\n",
    "\n",
    "df['columns_name'] == 'column_value'\n",
    "- perfom operatiosn like and and or on different contidions\n",
    "- using the isin() method\n"
   ]
  },
  {
   "cell_type": "code",
   "execution_count": null,
   "id": "89d543fb",
   "metadata": {},
   "outputs": [],
   "source": []
  }
 ],
 "metadata": {
  "kernelspec": {
   "display_name": "Python [conda env:py3-TF]",
   "language": "python",
   "name": "conda-env-py3-TF-py"
  },
  "language_info": {
   "codemirror_mode": {
    "name": "ipython",
    "version": 3
   },
   "file_extension": ".py",
   "mimetype": "text/x-python",
   "name": "python",
   "nbconvert_exporter": "python",
   "pygments_lexer": "ipython3",
   "version": "3.8.13"
  }
 },
 "nbformat": 4,
 "nbformat_minor": 5
}
