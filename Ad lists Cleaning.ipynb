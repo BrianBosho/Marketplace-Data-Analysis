{
 "cells": [
  {
   "cell_type": "code",
   "execution_count": 1,
   "id": "235b6934",
   "metadata": {},
   "outputs": [],
   "source": [
    "import pandas as pd\n",
    "import numpy as np"
   ]
  },
  {
   "cell_type": "code",
   "execution_count": 5,
   "id": "596bec4f",
   "metadata": {},
   "outputs": [
    {
     "name": "stderr",
     "output_type": "stream",
     "text": [
      "C:\\Users\\Brian\\AppData\\Local\\Temp\\ipykernel_21000\\3643120627.py:1: DtypeWarning: Columns (22) have mixed types. Specify dtype option on import or set low_memory=False.\n",
      "  df = pd.read_csv('ads_list1000.csv')\n"
     ]
    },
    {
     "data": {
      "text/html": [
       "<div>\n",
       "<style scoped>\n",
       "    .dataframe tbody tr th:only-of-type {\n",
       "        vertical-align: middle;\n",
       "    }\n",
       "\n",
       "    .dataframe tbody tr th {\n",
       "        vertical-align: top;\n",
       "    }\n",
       "\n",
       "    .dataframe thead th {\n",
       "        text-align: right;\n",
       "    }\n",
       "</style>\n",
       "<table border=\"1\" class=\"dataframe\">\n",
       "  <thead>\n",
       "    <tr style=\"text-align: right;\">\n",
       "      <th></th>\n",
       "      <th>Unnamed: 0</th>\n",
       "      <th>admin_info</th>\n",
       "      <th>apply_url</th>\n",
       "      <th>as_top</th>\n",
       "      <th>attrs</th>\n",
       "      <th>badge_info</th>\n",
       "      <th>booster_info</th>\n",
       "      <th>can_view_contacts</th>\n",
       "      <th>can_view_contacts_auth_url</th>\n",
       "      <th>category_name</th>\n",
       "      <th>...</th>\n",
       "      <th>region_slug</th>\n",
       "      <th>short_description</th>\n",
       "      <th>slug</th>\n",
       "      <th>title</th>\n",
       "      <th>title_labels</th>\n",
       "      <th>tops_count</th>\n",
       "      <th>url</th>\n",
       "      <th>user_id</th>\n",
       "      <th>user_phone</th>\n",
       "      <th>is_inspected</th>\n",
       "    </tr>\n",
       "  </thead>\n",
       "  <tbody>\n",
       "    <tr>\n",
       "      <th>0</th>\n",
       "      <td>0</td>\n",
       "      <td>{}</td>\n",
       "      <td>NaN</td>\n",
       "      <td>False</td>\n",
       "      <td>[{'name': 'Condition', 'unit': None, 'value': ...</td>\n",
       "      <td>{'aside_color': '#229826', 'bg_color': '#3DB83...</td>\n",
       "      <td>{'count': 40, 'type': 'boosters_vip'}</td>\n",
       "      <td>True</td>\n",
       "      <td>NaN</td>\n",
       "      <td>Cars</td>\n",
       "      <td>...</td>\n",
       "      <td>kilimani</td>\n",
       "      <td>Alloy wheels Fog lights Steering controls beig...</td>\n",
       "      <td>toyota-crown-2012-white</td>\n",
       "      <td>Toyota Crown 2012 White</td>\n",
       "      <td>[]</td>\n",
       "      <td>0</td>\n",
       "      <td>/kilimani/cars/toyota-crown-2012-white-zdSxJqf...</td>\n",
       "      <td>3868544</td>\n",
       "      <td>780772266</td>\n",
       "      <td>NaN</td>\n",
       "    </tr>\n",
       "    <tr>\n",
       "      <th>1</th>\n",
       "      <td>1</td>\n",
       "      <td>{}</td>\n",
       "      <td>NaN</td>\n",
       "      <td>False</td>\n",
       "      <td>[{'name': 'Condition', 'unit': None, 'value': ...</td>\n",
       "      <td>{'aside_color': '#229826', 'bg_color': '#3DB83...</td>\n",
       "      <td>{'count': 2, 'type': 'boosters_vip'}</td>\n",
       "      <td>True</td>\n",
       "      <td>NaN</td>\n",
       "      <td>Cars</td>\n",
       "      <td>...</td>\n",
       "      <td>kilimani</td>\n",
       "      <td>Mazda CX-5, petrol, 2016, 2000cc, white in col...</td>\n",
       "      <td>mazda-cx-5-2016-white</td>\n",
       "      <td>Mazda CX-5 2016 White</td>\n",
       "      <td>[]</td>\n",
       "      <td>0</td>\n",
       "      <td>/kilimani/cars/mazda-cx-5-2016-white-tPI6quTgo...</td>\n",
       "      <td>849570</td>\n",
       "      <td>795058606</td>\n",
       "      <td>NaN</td>\n",
       "    </tr>\n",
       "    <tr>\n",
       "      <th>2</th>\n",
       "      <td>2</td>\n",
       "      <td>{}</td>\n",
       "      <td>NaN</td>\n",
       "      <td>False</td>\n",
       "      <td>[{'name': 'Condition', 'unit': None, 'value': ...</td>\n",
       "      <td>{'aside_color': '#229826', 'bg_color': '#3DB83...</td>\n",
       "      <td>{'count': 1, 'type': 'boosters_vip'}</td>\n",
       "      <td>True</td>\n",
       "      <td>NaN</td>\n",
       "      <td>Cars</td>\n",
       "      <td>...</td>\n",
       "      <td>ridgeways</td>\n",
       "      <td>2015 Mazda demio diesel,alloy rims, steering c...</td>\n",
       "      <td>mazda-demio-2015-silver</td>\n",
       "      <td>Mazda Demio 2015 Silver</td>\n",
       "      <td>[]</td>\n",
       "      <td>0</td>\n",
       "      <td>/ridgeways/cars/mazda-demio-2015-silver-8civgP...</td>\n",
       "      <td>1945226</td>\n",
       "      <td>723676360</td>\n",
       "      <td>NaN</td>\n",
       "    </tr>\n",
       "    <tr>\n",
       "      <th>3</th>\n",
       "      <td>3</td>\n",
       "      <td>{}</td>\n",
       "      <td>NaN</td>\n",
       "      <td>False</td>\n",
       "      <td>[{'name': 'Condition', 'unit': None, 'value': ...</td>\n",
       "      <td>{'aside_color': '#229826', 'bg_color': '#3DB83...</td>\n",
       "      <td>{'count': 1, 'type': 'boosters_vip'}</td>\n",
       "      <td>True</td>\n",
       "      <td>NaN</td>\n",
       "      <td>Cars</td>\n",
       "      <td>...</td>\n",
       "      <td>langata</td>\n",
       "      <td>2200cc Diesel,\\nSkyactive,\\ncruise control,\\nI...</td>\n",
       "      <td>mazda-cx-5-sv-premium-2013-black</td>\n",
       "      <td>Mazda CX-5 SV Premium 2013 Black</td>\n",
       "      <td>[]</td>\n",
       "      <td>0</td>\n",
       "      <td>/mugumo-ini-langata/cars/mazda-cx-5-sv-premium...</td>\n",
       "      <td>3947081</td>\n",
       "      <td>724469757</td>\n",
       "      <td>NaN</td>\n",
       "    </tr>\n",
       "    <tr>\n",
       "      <th>4</th>\n",
       "      <td>4</td>\n",
       "      <td>{}</td>\n",
       "      <td>NaN</td>\n",
       "      <td>False</td>\n",
       "      <td>[{'name': 'Condition', 'unit': None, 'value': ...</td>\n",
       "      <td>{'aside_color': '#229826', 'bg_color': '#3DB83...</td>\n",
       "      <td>{'count': 1, 'type': 'boosters'}</td>\n",
       "      <td>True</td>\n",
       "      <td>NaN</td>\n",
       "      <td>Cars</td>\n",
       "      <td>...</td>\n",
       "      <td>nairobi-central</td>\n",
       "      <td>Peugeot 508 \\n\\n2014 Model | 1600cc petrol eng...</td>\n",
       "      <td>peugeot-508-2014-black</td>\n",
       "      <td>Peugeot 508 2014 Black</td>\n",
       "      <td>[]</td>\n",
       "      <td>1</td>\n",
       "      <td>/nairobi-central/cars/peugeot-508-2014-black-B...</td>\n",
       "      <td>871969</td>\n",
       "      <td>790706018</td>\n",
       "      <td>NaN</td>\n",
       "    </tr>\n",
       "  </tbody>\n",
       "</table>\n",
       "<p>5 rows × 40 columns</p>\n",
       "</div>"
      ],
      "text/plain": [
       "   Unnamed: 0 admin_info  apply_url  as_top  \\\n",
       "0           0         {}        NaN   False   \n",
       "1           1         {}        NaN   False   \n",
       "2           2         {}        NaN   False   \n",
       "3           3         {}        NaN   False   \n",
       "4           4         {}        NaN   False   \n",
       "\n",
       "                                               attrs  \\\n",
       "0  [{'name': 'Condition', 'unit': None, 'value': ...   \n",
       "1  [{'name': 'Condition', 'unit': None, 'value': ...   \n",
       "2  [{'name': 'Condition', 'unit': None, 'value': ...   \n",
       "3  [{'name': 'Condition', 'unit': None, 'value': ...   \n",
       "4  [{'name': 'Condition', 'unit': None, 'value': ...   \n",
       "\n",
       "                                          badge_info  \\\n",
       "0  {'aside_color': '#229826', 'bg_color': '#3DB83...   \n",
       "1  {'aside_color': '#229826', 'bg_color': '#3DB83...   \n",
       "2  {'aside_color': '#229826', 'bg_color': '#3DB83...   \n",
       "3  {'aside_color': '#229826', 'bg_color': '#3DB83...   \n",
       "4  {'aside_color': '#229826', 'bg_color': '#3DB83...   \n",
       "\n",
       "                            booster_info  can_view_contacts  \\\n",
       "0  {'count': 40, 'type': 'boosters_vip'}               True   \n",
       "1   {'count': 2, 'type': 'boosters_vip'}               True   \n",
       "2   {'count': 1, 'type': 'boosters_vip'}               True   \n",
       "3   {'count': 1, 'type': 'boosters_vip'}               True   \n",
       "4       {'count': 1, 'type': 'boosters'}               True   \n",
       "\n",
       "   can_view_contacts_auth_url category_name  ...      region_slug  \\\n",
       "0                         NaN          Cars  ...         kilimani   \n",
       "1                         NaN          Cars  ...         kilimani   \n",
       "2                         NaN          Cars  ...        ridgeways   \n",
       "3                         NaN          Cars  ...          langata   \n",
       "4                         NaN          Cars  ...  nairobi-central   \n",
       "\n",
       "                                   short_description  \\\n",
       "0  Alloy wheels Fog lights Steering controls beig...   \n",
       "1  Mazda CX-5, petrol, 2016, 2000cc, white in col...   \n",
       "2  2015 Mazda demio diesel,alloy rims, steering c...   \n",
       "3  2200cc Diesel,\\nSkyactive,\\ncruise control,\\nI...   \n",
       "4  Peugeot 508 \\n\\n2014 Model | 1600cc petrol eng...   \n",
       "\n",
       "                               slug                             title  \\\n",
       "0           toyota-crown-2012-white           Toyota Crown 2012 White   \n",
       "1             mazda-cx-5-2016-white             Mazda CX-5 2016 White   \n",
       "2           mazda-demio-2015-silver           Mazda Demio 2015 Silver   \n",
       "3  mazda-cx-5-sv-premium-2013-black  Mazda CX-5 SV Premium 2013 Black   \n",
       "4            peugeot-508-2014-black            Peugeot 508 2014 Black   \n",
       "\n",
       "  title_labels tops_count                                                url  \\\n",
       "0           []          0  /kilimani/cars/toyota-crown-2012-white-zdSxJqf...   \n",
       "1           []          0  /kilimani/cars/mazda-cx-5-2016-white-tPI6quTgo...   \n",
       "2           []          0  /ridgeways/cars/mazda-demio-2015-silver-8civgP...   \n",
       "3           []          0  /mugumo-ini-langata/cars/mazda-cx-5-sv-premium...   \n",
       "4           []          1  /nairobi-central/cars/peugeot-508-2014-black-B...   \n",
       "\n",
       "   user_id  user_phone  is_inspected  \n",
       "0  3868544   780772266           NaN  \n",
       "1   849570   795058606           NaN  \n",
       "2  1945226   723676360           NaN  \n",
       "3  3947081   724469757           NaN  \n",
       "4   871969   790706018           NaN  \n",
       "\n",
       "[5 rows x 40 columns]"
      ]
     },
     "execution_count": 5,
     "metadata": {},
     "output_type": "execute_result"
    }
   ],
   "source": [
    "df = pd.read_csv('ads_list1000.csv')\n",
    "df.head()"
   ]
  },
  {
   "cell_type": "code",
   "execution_count": 6,
   "id": "5cf36b78",
   "metadata": {},
   "outputs": [
    {
     "data": {
      "text/plain": [
       "Index(['Unnamed: 0', 'admin_info', 'apply_url', 'as_top', 'attrs',\n",
       "       'badge_info', 'booster_info', 'can_view_contacts',\n",
       "       'can_view_contacts_auth_url', 'category_name', 'category_slug',\n",
       "       'fb_view_content_data', 'guid', 'id', 'image_obj', 'images',\n",
       "       'images_count', 'is_boost', 'is_cv', 'is_job', 'is_owner', 'is_top',\n",
       "       'labels', 'message_url', 'paid_info', 'price_obj', 'region_id',\n",
       "       'region_item_text', 'region_name', 'region_parent_name', 'region_slug',\n",
       "       'short_description', 'slug', 'title', 'title_labels', 'tops_count',\n",
       "       'url', 'user_id', 'user_phone', 'is_inspected'],\n",
       "      dtype='object')"
      ]
     },
     "execution_count": 6,
     "metadata": {},
     "output_type": "execute_result"
    }
   ],
   "source": [
    "df.columns"
   ]
  },
  {
   "cell_type": "code",
   "execution_count": 7,
   "id": "b2e0d647",
   "metadata": {},
   "outputs": [
    {
     "data": {
      "text/plain": [
       "(17810, 40)"
      ]
     },
     "execution_count": 7,
     "metadata": {},
     "output_type": "execute_result"
    }
   ],
   "source": [
    "df.shape"
   ]
  },
  {
   "cell_type": "code",
   "execution_count": 8,
   "id": "e7382348",
   "metadata": {},
   "outputs": [
    {
     "data": {
      "text/plain": [
       "(17810, 40)"
      ]
     },
     "execution_count": 8,
     "metadata": {},
     "output_type": "execute_result"
    }
   ],
   "source": [
    "df.shape"
   ]
  },
  {
   "cell_type": "code",
   "execution_count": 9,
   "id": "a36d1f38",
   "metadata": {},
   "outputs": [
    {
     "data": {
      "text/plain": [
       "0        [{'name': 'Condition', 'unit': None, 'value': ...\n",
       "1        [{'name': 'Condition', 'unit': None, 'value': ...\n",
       "2        [{'name': 'Condition', 'unit': None, 'value': ...\n",
       "3        [{'name': 'Condition', 'unit': None, 'value': ...\n",
       "4        [{'name': 'Condition', 'unit': None, 'value': ...\n",
       "                               ...                        \n",
       "17805    [{'name': 'Condition', 'unit': None, 'value': ...\n",
       "17806    [{'name': 'Condition', 'unit': None, 'value': ...\n",
       "17807    [{'name': 'Condition', 'unit': None, 'value': ...\n",
       "17808    [{'name': 'Condition', 'unit': None, 'value': ...\n",
       "17809    [{'name': 'Condition', 'unit': None, 'value': ...\n",
       "Name: attrs, Length: 17810, dtype: object"
      ]
     },
     "execution_count": 9,
     "metadata": {},
     "output_type": "execute_result"
    }
   ],
   "source": [
    "attrs_df = df['attrs']\n",
    "attrs_df"
   ]
  },
  {
   "cell_type": "code",
   "execution_count": 10,
   "id": "02aeb6c3",
   "metadata": {},
   "outputs": [],
   "source": [
    "attrs_list = attrs_df.tolist()"
   ]
  },
  {
   "cell_type": "code",
   "execution_count": 11,
   "id": "9f7654e3",
   "metadata": {},
   "outputs": [
    {
     "data": {
      "text/plain": [
       "\"[{'name': 'Condition', 'unit': None, 'value': 'Kenyan Used'}, {'name': 'Transmission', 'unit': None, 'value': 'Automatic'}]\""
      ]
     },
     "execution_count": 11,
     "metadata": {},
     "output_type": "execute_result"
    }
   ],
   "source": [
    "attrs_list[0]"
   ]
  },
  {
   "cell_type": "code",
   "execution_count": 12,
   "id": "d72666e0",
   "metadata": {},
   "outputs": [
    {
     "data": {
      "text/plain": [
       "list"
      ]
     },
     "execution_count": 12,
     "metadata": {},
     "output_type": "execute_result"
    }
   ],
   "source": [
    "attr1 = eval(attrs_list[0])\n",
    "type(attr1)"
   ]
  },
  {
   "cell_type": "code",
   "execution_count": 13,
   "id": "b4d25030",
   "metadata": {},
   "outputs": [
    {
     "name": "stdout",
     "output_type": "stream",
     "text": [
      "{'name': 'Condition', 'unit': None, 'value': 'Kenyan Used'}\n",
      "{'name': 'Transmission', 'unit': None, 'value': 'Automatic'}\n"
     ]
    }
   ],
   "source": [
    "for item in attr1:\n",
    "    print(item)"
   ]
  },
  {
   "cell_type": "code",
   "execution_count": 14,
   "id": "97d31316",
   "metadata": {},
   "outputs": [
    {
     "name": "stdout",
     "output_type": "stream",
     "text": [
      "Unnamed: 0\n",
      "admin_info\n",
      "apply_url\n",
      "as_top\n",
      "attrs\n",
      "badge_info\n",
      "booster_info\n",
      "can_view_contacts\n",
      "can_view_contacts_auth_url\n",
      "category_name\n",
      "category_slug\n",
      "fb_view_content_data\n",
      "guid\n",
      "id\n",
      "image_obj\n",
      "images\n",
      "images_count\n",
      "is_boost\n",
      "is_cv\n",
      "is_job\n",
      "is_owner\n",
      "is_top\n",
      "labels\n",
      "message_url\n",
      "paid_info\n",
      "price_obj\n",
      "region_id\n",
      "region_item_text\n",
      "region_name\n",
      "region_parent_name\n",
      "region_slug\n",
      "short_description\n",
      "slug\n",
      "title\n",
      "title_labels\n",
      "tops_count\n",
      "url\n",
      "user_id\n",
      "user_phone\n",
      "is_inspected\n"
     ]
    }
   ],
   "source": [
    "for clm in df.columns:\n",
    "    print(clm)"
   ]
  },
  {
   "cell_type": "code",
   "execution_count": null,
   "id": "a9c4cf9a",
   "metadata": {},
   "outputs": [],
   "source": []
  }
 ],
 "metadata": {
  "kernelspec": {
   "display_name": "Python [conda env:py3-TF]",
   "language": "python",
   "name": "conda-env-py3-TF-py"
  },
  "language_info": {
   "codemirror_mode": {
    "name": "ipython",
    "version": 3
   },
   "file_extension": ".py",
   "mimetype": "text/x-python",
   "name": "python",
   "nbconvert_exporter": "python",
   "pygments_lexer": "ipython3",
   "version": "3.8.13"
  }
 },
 "nbformat": 4,
 "nbformat_minor": 5
}
